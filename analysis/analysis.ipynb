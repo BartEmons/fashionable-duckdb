{
 "cells": [
  {
   "cell_type": "code",
   "execution_count": 1,
   "metadata": {},
   "outputs": [],
   "source": [
    "import pandas as pd"
   ]
  },
  {
   "cell_type": "code",
   "execution_count": 25,
   "metadata": {},
   "outputs": [
    {
     "name": "stderr",
     "output_type": "stream",
     "text": [
      "/var/folders/kr/w6rqqwzn3s10149rs1s57jth0000gn/T/ipykernel_95500/543056391.py:2: DtypeWarning: Columns (23) have mixed types. Specify dtype option on import or set low_memory=False.\n",
      "  pd.read_csv('../seeds/fashionable.csv')\n"
     ]
    }
   ],
   "source": [
    "df = (\n",
    "    pd.read_csv('../seeds/fashionable.csv')\n",
    "    .drop(columns=['index', 'Unnamed: 22'])\n",
    ")"
   ]
  },
  {
   "cell_type": "code",
   "execution_count": 26,
   "metadata": {},
   "outputs": [
    {
     "data": {
      "text/plain": [
       "Index(['Order ID', 'Date', 'Status', 'Fulfilment', 'Sales Channel ',\n",
       "       'ship-service-level', 'Style', 'SKU', 'Category', 'Size', 'asIN',\n",
       "       'Courier Status', 'Qty', 'currency', 'Amount', 'ship-city',\n",
       "       'ship-state', 'ship-postal-code', 'ship-country', 'promotion-ids',\n",
       "       'B2B', 'fulfilled-by'],\n",
       "      dtype='object')"
      ]
     },
     "execution_count": 26,
     "metadata": {},
     "output_type": "execute_result"
    }
   ],
   "source": [
    "df.columns"
   ]
  },
  {
   "cell_type": "code",
   "execution_count": 27,
   "metadata": {},
   "outputs": [
    {
     "data": {
      "text/html": [
       "<div>\n",
       "<style scoped>\n",
       "    .dataframe tbody tr th:only-of-type {\n",
       "        vertical-align: middle;\n",
       "    }\n",
       "\n",
       "    .dataframe tbody tr th {\n",
       "        vertical-align: top;\n",
       "    }\n",
       "\n",
       "    .dataframe thead th {\n",
       "        text-align: right;\n",
       "    }\n",
       "</style>\n",
       "<table border=\"1\" class=\"dataframe\">\n",
       "  <thead>\n",
       "    <tr style=\"text-align: right;\">\n",
       "      <th></th>\n",
       "      <th>Order ID</th>\n",
       "      <th>Date</th>\n",
       "      <th>Status</th>\n",
       "      <th>Fulfilment</th>\n",
       "      <th>Sales Channel</th>\n",
       "      <th>ship-service-level</th>\n",
       "      <th>Style</th>\n",
       "      <th>SKU</th>\n",
       "      <th>Category</th>\n",
       "      <th>Size</th>\n",
       "      <th>...</th>\n",
       "      <th>Qty</th>\n",
       "      <th>currency</th>\n",
       "      <th>Amount</th>\n",
       "      <th>ship-city</th>\n",
       "      <th>ship-state</th>\n",
       "      <th>ship-postal-code</th>\n",
       "      <th>ship-country</th>\n",
       "      <th>promotion-ids</th>\n",
       "      <th>B2B</th>\n",
       "      <th>fulfilled-by</th>\n",
       "    </tr>\n",
       "  </thead>\n",
       "  <tbody>\n",
       "    <tr>\n",
       "      <th>0</th>\n",
       "      <td>405-8078784-5731545</td>\n",
       "      <td>04-30-22</td>\n",
       "      <td>Cancelled</td>\n",
       "      <td>Merchant</td>\n",
       "      <td>Fashionable.in</td>\n",
       "      <td>Standard</td>\n",
       "      <td>SET389</td>\n",
       "      <td>SET389-KR-NP-S</td>\n",
       "      <td>Set</td>\n",
       "      <td>S</td>\n",
       "      <td>...</td>\n",
       "      <td>0</td>\n",
       "      <td>INR</td>\n",
       "      <td>647.62</td>\n",
       "      <td>MUMBAI</td>\n",
       "      <td>MAHARasHTRA</td>\n",
       "      <td>400081.0</td>\n",
       "      <td>IN</td>\n",
       "      <td>NaN</td>\n",
       "      <td>False</td>\n",
       "      <td>Easy Ship</td>\n",
       "    </tr>\n",
       "    <tr>\n",
       "      <th>1</th>\n",
       "      <td>171-9198151-1101146</td>\n",
       "      <td>04-30-22</td>\n",
       "      <td>Shipped - Delivered to Buyer</td>\n",
       "      <td>Merchant</td>\n",
       "      <td>Fashionable.in</td>\n",
       "      <td>Standard</td>\n",
       "      <td>JNE3781</td>\n",
       "      <td>JNE3781-KR-XXXL</td>\n",
       "      <td>kurta</td>\n",
       "      <td>3XL</td>\n",
       "      <td>...</td>\n",
       "      <td>1</td>\n",
       "      <td>INR</td>\n",
       "      <td>406.00</td>\n",
       "      <td>BENGALURU</td>\n",
       "      <td>KARNATAKA</td>\n",
       "      <td>560085.0</td>\n",
       "      <td>IN</td>\n",
       "      <td>Fashionable PLCC Free-Financing Universal Merc...</td>\n",
       "      <td>False</td>\n",
       "      <td>Easy Ship</td>\n",
       "    </tr>\n",
       "    <tr>\n",
       "      <th>2</th>\n",
       "      <td>404-0687676-7273146</td>\n",
       "      <td>04-30-22</td>\n",
       "      <td>Shipped</td>\n",
       "      <td>Fashionable</td>\n",
       "      <td>Fashionable.in</td>\n",
       "      <td>Expedited</td>\n",
       "      <td>JNE3371</td>\n",
       "      <td>JNE3371-KR-XL</td>\n",
       "      <td>kurta</td>\n",
       "      <td>XL</td>\n",
       "      <td>...</td>\n",
       "      <td>1</td>\n",
       "      <td>INR</td>\n",
       "      <td>329.00</td>\n",
       "      <td>NAVI MUMBAI</td>\n",
       "      <td>MAHARasHTRA</td>\n",
       "      <td>410210.0</td>\n",
       "      <td>IN</td>\n",
       "      <td>IN Core Free Shipping 2015/04/08 23-48-5-108</td>\n",
       "      <td>True</td>\n",
       "      <td>NaN</td>\n",
       "    </tr>\n",
       "    <tr>\n",
       "      <th>3</th>\n",
       "      <td>403-9615377-8133951</td>\n",
       "      <td>04-30-22</td>\n",
       "      <td>Cancelled</td>\n",
       "      <td>Merchant</td>\n",
       "      <td>Fashionable.in</td>\n",
       "      <td>Standard</td>\n",
       "      <td>J0341</td>\n",
       "      <td>J0341-DR-L</td>\n",
       "      <td>Western Dress</td>\n",
       "      <td>L</td>\n",
       "      <td>...</td>\n",
       "      <td>0</td>\n",
       "      <td>INR</td>\n",
       "      <td>753.33</td>\n",
       "      <td>PUDUCHERRY</td>\n",
       "      <td>PUDUCHERRY</td>\n",
       "      <td>605008.0</td>\n",
       "      <td>IN</td>\n",
       "      <td>NaN</td>\n",
       "      <td>False</td>\n",
       "      <td>Easy Ship</td>\n",
       "    </tr>\n",
       "    <tr>\n",
       "      <th>4</th>\n",
       "      <td>407-1069790-7240320</td>\n",
       "      <td>04-30-22</td>\n",
       "      <td>Shipped</td>\n",
       "      <td>Fashionable</td>\n",
       "      <td>Fashionable.in</td>\n",
       "      <td>Expedited</td>\n",
       "      <td>JNE3671</td>\n",
       "      <td>JNE3671-TU-XXXL</td>\n",
       "      <td>Top</td>\n",
       "      <td>3XL</td>\n",
       "      <td>...</td>\n",
       "      <td>1</td>\n",
       "      <td>INR</td>\n",
       "      <td>574.00</td>\n",
       "      <td>CHENNAI</td>\n",
       "      <td>TAMIL NADU</td>\n",
       "      <td>600073.0</td>\n",
       "      <td>IN</td>\n",
       "      <td>NaN</td>\n",
       "      <td>False</td>\n",
       "      <td>NaN</td>\n",
       "    </tr>\n",
       "    <tr>\n",
       "      <th>5</th>\n",
       "      <td>404-1490984-4578765</td>\n",
       "      <td>04-30-22</td>\n",
       "      <td>Shipped</td>\n",
       "      <td>Fashionable</td>\n",
       "      <td>Fashionable.in</td>\n",
       "      <td>Expedited</td>\n",
       "      <td>SET264</td>\n",
       "      <td>SET264-KR-NP-XL</td>\n",
       "      <td>Set</td>\n",
       "      <td>XL</td>\n",
       "      <td>...</td>\n",
       "      <td>1</td>\n",
       "      <td>INR</td>\n",
       "      <td>824.00</td>\n",
       "      <td>GHAZIABAD</td>\n",
       "      <td>UTTAR PRADESH</td>\n",
       "      <td>201102.0</td>\n",
       "      <td>IN</td>\n",
       "      <td>IN Core Free Shipping 2015/04/08 23-48-5-108</td>\n",
       "      <td>False</td>\n",
       "      <td>NaN</td>\n",
       "    </tr>\n",
       "    <tr>\n",
       "      <th>6</th>\n",
       "      <td>408-5748499-6859555</td>\n",
       "      <td>04-30-22</td>\n",
       "      <td>Shipped</td>\n",
       "      <td>Fashionable</td>\n",
       "      <td>Fashionable.in</td>\n",
       "      <td>Expedited</td>\n",
       "      <td>J0095</td>\n",
       "      <td>J0095-SET-L</td>\n",
       "      <td>Set</td>\n",
       "      <td>L</td>\n",
       "      <td>...</td>\n",
       "      <td>1</td>\n",
       "      <td>INR</td>\n",
       "      <td>653.00</td>\n",
       "      <td>CHANDIGARH</td>\n",
       "      <td>CHANDIGARH</td>\n",
       "      <td>160036.0</td>\n",
       "      <td>IN</td>\n",
       "      <td>IN Core Free Shipping 2015/04/08 23-48-5-108</td>\n",
       "      <td>False</td>\n",
       "      <td>NaN</td>\n",
       "    </tr>\n",
       "    <tr>\n",
       "      <th>7</th>\n",
       "      <td>406-7807733-3785945</td>\n",
       "      <td>04-30-22</td>\n",
       "      <td>Shipped - Delivered to Buyer</td>\n",
       "      <td>Merchant</td>\n",
       "      <td>Fashionable.in</td>\n",
       "      <td>Standard</td>\n",
       "      <td>JNE3405</td>\n",
       "      <td>JNE3405-KR-S</td>\n",
       "      <td>kurta</td>\n",
       "      <td>S</td>\n",
       "      <td>...</td>\n",
       "      <td>1</td>\n",
       "      <td>INR</td>\n",
       "      <td>399.00</td>\n",
       "      <td>HYDERABAD</td>\n",
       "      <td>TELANGANA</td>\n",
       "      <td>500032.0</td>\n",
       "      <td>IN</td>\n",
       "      <td>Fashionable PLCC Free-Financing Universal Merc...</td>\n",
       "      <td>False</td>\n",
       "      <td>Easy Ship</td>\n",
       "    </tr>\n",
       "    <tr>\n",
       "      <th>8</th>\n",
       "      <td>407-5443024-5233168</td>\n",
       "      <td>04-30-22</td>\n",
       "      <td>Cancelled</td>\n",
       "      <td>Fashionable</td>\n",
       "      <td>Fashionable.in</td>\n",
       "      <td>Expedited</td>\n",
       "      <td>SET200</td>\n",
       "      <td>SET200-KR-NP-A-XXXL</td>\n",
       "      <td>Set</td>\n",
       "      <td>3XL</td>\n",
       "      <td>...</td>\n",
       "      <td>0</td>\n",
       "      <td>NaN</td>\n",
       "      <td>NaN</td>\n",
       "      <td>HYDERABAD</td>\n",
       "      <td>TELANGANA</td>\n",
       "      <td>500008.0</td>\n",
       "      <td>IN</td>\n",
       "      <td>IN Core Free Shipping 2015/04/08 23-48-5-108</td>\n",
       "      <td>False</td>\n",
       "      <td>NaN</td>\n",
       "    </tr>\n",
       "    <tr>\n",
       "      <th>9</th>\n",
       "      <td>402-4393761-0311520</td>\n",
       "      <td>04-30-22</td>\n",
       "      <td>Shipped</td>\n",
       "      <td>Fashionable</td>\n",
       "      <td>Fashionable.in</td>\n",
       "      <td>Expedited</td>\n",
       "      <td>JNE3461</td>\n",
       "      <td>JNE3461-KR-XXL</td>\n",
       "      <td>kurta</td>\n",
       "      <td>XXL</td>\n",
       "      <td>...</td>\n",
       "      <td>1</td>\n",
       "      <td>INR</td>\n",
       "      <td>363.00</td>\n",
       "      <td>Chennai</td>\n",
       "      <td>TAMIL NADU</td>\n",
       "      <td>600041.0</td>\n",
       "      <td>IN</td>\n",
       "      <td>NaN</td>\n",
       "      <td>False</td>\n",
       "      <td>NaN</td>\n",
       "    </tr>\n",
       "  </tbody>\n",
       "</table>\n",
       "<p>10 rows × 22 columns</p>\n",
       "</div>"
      ],
      "text/plain": [
       "              Order ID      Date                        Status   Fulfilment  \\\n",
       "0  405-8078784-5731545  04-30-22                     Cancelled     Merchant   \n",
       "1  171-9198151-1101146  04-30-22  Shipped - Delivered to Buyer     Merchant   \n",
       "2  404-0687676-7273146  04-30-22                       Shipped  Fashionable   \n",
       "3  403-9615377-8133951  04-30-22                     Cancelled     Merchant   \n",
       "4  407-1069790-7240320  04-30-22                       Shipped  Fashionable   \n",
       "5  404-1490984-4578765  04-30-22                       Shipped  Fashionable   \n",
       "6  408-5748499-6859555  04-30-22                       Shipped  Fashionable   \n",
       "7  406-7807733-3785945  04-30-22  Shipped - Delivered to Buyer     Merchant   \n",
       "8  407-5443024-5233168  04-30-22                     Cancelled  Fashionable   \n",
       "9  402-4393761-0311520  04-30-22                       Shipped  Fashionable   \n",
       "\n",
       "   Sales Channel  ship-service-level    Style                  SKU  \\\n",
       "0  Fashionable.in           Standard   SET389       SET389-KR-NP-S   \n",
       "1  Fashionable.in           Standard  JNE3781      JNE3781-KR-XXXL   \n",
       "2  Fashionable.in          Expedited  JNE3371        JNE3371-KR-XL   \n",
       "3  Fashionable.in           Standard    J0341           J0341-DR-L   \n",
       "4  Fashionable.in          Expedited  JNE3671      JNE3671-TU-XXXL   \n",
       "5  Fashionable.in          Expedited   SET264      SET264-KR-NP-XL   \n",
       "6  Fashionable.in          Expedited    J0095          J0095-SET-L   \n",
       "7  Fashionable.in           Standard  JNE3405         JNE3405-KR-S   \n",
       "8  Fashionable.in          Expedited   SET200  SET200-KR-NP-A-XXXL   \n",
       "9  Fashionable.in          Expedited  JNE3461       JNE3461-KR-XXL   \n",
       "\n",
       "        Category Size  ... Qty currency  Amount    ship-city     ship-state  \\\n",
       "0            Set    S  ...   0      INR  647.62       MUMBAI    MAHARasHTRA   \n",
       "1          kurta  3XL  ...   1      INR  406.00    BENGALURU      KARNATAKA   \n",
       "2          kurta   XL  ...   1      INR  329.00  NAVI MUMBAI    MAHARasHTRA   \n",
       "3  Western Dress    L  ...   0      INR  753.33   PUDUCHERRY     PUDUCHERRY   \n",
       "4            Top  3XL  ...   1      INR  574.00      CHENNAI     TAMIL NADU   \n",
       "5            Set   XL  ...   1      INR  824.00    GHAZIABAD  UTTAR PRADESH   \n",
       "6            Set    L  ...   1      INR  653.00   CHANDIGARH     CHANDIGARH   \n",
       "7          kurta    S  ...   1      INR  399.00    HYDERABAD      TELANGANA   \n",
       "8            Set  3XL  ...   0      NaN     NaN    HYDERABAD      TELANGANA   \n",
       "9          kurta  XXL  ...   1      INR  363.00      Chennai     TAMIL NADU   \n",
       "\n",
       "  ship-postal-code ship-country  \\\n",
       "0         400081.0           IN   \n",
       "1         560085.0           IN   \n",
       "2         410210.0           IN   \n",
       "3         605008.0           IN   \n",
       "4         600073.0           IN   \n",
       "5         201102.0           IN   \n",
       "6         160036.0           IN   \n",
       "7         500032.0           IN   \n",
       "8         500008.0           IN   \n",
       "9         600041.0           IN   \n",
       "\n",
       "                                       promotion-ids    B2B fulfilled-by  \n",
       "0                                                NaN  False    Easy Ship  \n",
       "1  Fashionable PLCC Free-Financing Universal Merc...  False    Easy Ship  \n",
       "2       IN Core Free Shipping 2015/04/08 23-48-5-108   True          NaN  \n",
       "3                                                NaN  False    Easy Ship  \n",
       "4                                                NaN  False          NaN  \n",
       "5       IN Core Free Shipping 2015/04/08 23-48-5-108  False          NaN  \n",
       "6       IN Core Free Shipping 2015/04/08 23-48-5-108  False          NaN  \n",
       "7  Fashionable PLCC Free-Financing Universal Merc...  False    Easy Ship  \n",
       "8       IN Core Free Shipping 2015/04/08 23-48-5-108  False          NaN  \n",
       "9                                                NaN  False          NaN  \n",
       "\n",
       "[10 rows x 22 columns]"
      ]
     },
     "execution_count": 27,
     "metadata": {},
     "output_type": "execute_result"
    }
   ],
   "source": [
    "df.head(10)"
   ]
  },
  {
   "cell_type": "code",
   "execution_count": 28,
   "metadata": {},
   "outputs": [
    {
     "data": {
      "text/plain": [
       "Order ID\n",
       "403-4984515-8861958    12\n",
       "171-5057375-2831560    12\n",
       "403-0173977-3041148    11\n",
       "404-9932919-6662730    11\n",
       "408-3317403-1729937    10\n",
       "                       ..\n",
       "403-8053007-5615559     1\n",
       "403-8052959-3139552     1\n",
       "403-8050222-3232316     1\n",
       "403-8050149-7997962     1\n",
       "S02-9878098-5959538     1\n",
       "Name: count, Length: 120378, dtype: int64"
      ]
     },
     "execution_count": 28,
     "metadata": {},
     "output_type": "execute_result"
    }
   ],
   "source": [
    "# update on orders? Yes, means we probably have status updates\n",
    "df.value_counts('Order ID')"
   ]
  },
  {
   "cell_type": "code",
   "execution_count": 29,
   "metadata": {},
   "outputs": [
    {
     "data": {
      "text/plain": [
       "0         B09KXVBD7Z\n",
       "1         B09K3WFS32\n",
       "2         B07WV4JV4D\n",
       "3         B099NRCT7B\n",
       "4         B098714BZP\n",
       "             ...    \n",
       "128970    B098112V2V\n",
       "128971    B09VC6KHX8\n",
       "128972    B0982YZ51B\n",
       "128973    B0894Y2NJQ\n",
       "128974    B0894X27FC\n",
       "Name: asIN, Length: 128975, dtype: object"
      ]
     },
     "execution_count": 29,
     "metadata": {},
     "output_type": "execute_result"
    }
   ],
   "source": [
    "df.asIN"
   ]
  },
  {
   "cell_type": "code",
   "execution_count": 30,
   "metadata": {},
   "outputs": [
    {
     "data": {
      "text/plain": [
       "Courier Status\n",
       "Shipped      109487\n",
       "Unshipped      6681\n",
       "Cancelled      5935\n",
       "Name: count, dtype: int64"
      ]
     },
     "execution_count": 30,
     "metadata": {},
     "output_type": "execute_result"
    }
   ],
   "source": [
    "df['Courier Status'].value_counts()"
   ]
  },
  {
   "cell_type": "code",
   "execution_count": 31,
   "metadata": {},
   "outputs": [
    {
     "data": {
      "text/plain": [
       "0                                                       NaN\n",
       "1         Fashionable PLCC Free-Financing Universal Merc...\n",
       "2              IN Core Free Shipping 2015/04/08 23-48-5-108\n",
       "3                                                       NaN\n",
       "4                                                       NaN\n",
       "                                ...                        \n",
       "128970                                                  NaN\n",
       "128971         IN Core Free Shipping 2015/04/08 23-48-5-108\n",
       "128972                                                  NaN\n",
       "128973         IN Core Free Shipping 2015/04/08 23-48-5-108\n",
       "128974         IN Core Free Shipping 2015/04/08 23-48-5-108\n",
       "Name: promotion-ids, Length: 128975, dtype: object"
      ]
     },
     "execution_count": 31,
     "metadata": {},
     "output_type": "execute_result"
    }
   ],
   "source": [
    "df['promotion-ids']"
   ]
  },
  {
   "cell_type": "code",
   "execution_count": 32,
   "metadata": {},
   "outputs": [
    {
     "data": {
      "text/plain": [
       "0         False\n",
       "1         False\n",
       "2          True\n",
       "3         False\n",
       "4         False\n",
       "          ...  \n",
       "128970    False\n",
       "128971    False\n",
       "128972    False\n",
       "128973    False\n",
       "128974    False\n",
       "Name: B2B, Length: 128975, dtype: bool"
      ]
     },
     "execution_count": 32,
     "metadata": {},
     "output_type": "execute_result"
    }
   ],
   "source": [
    "df['B2B']"
   ]
  },
  {
   "cell_type": "code",
   "execution_count": 33,
   "metadata": {},
   "outputs": [
    {
     "data": {
      "text/plain": [
       "0         Easy Ship\n",
       "1         Easy Ship\n",
       "2               NaN\n",
       "3         Easy Ship\n",
       "4               NaN\n",
       "            ...    \n",
       "128970          NaN\n",
       "128971          NaN\n",
       "128972          NaN\n",
       "128973          NaN\n",
       "128974          NaN\n",
       "Name: fulfilled-by, Length: 128975, dtype: object"
      ]
     },
     "execution_count": 33,
     "metadata": {},
     "output_type": "execute_result"
    }
   ],
   "source": [
    "df['fulfilled-by']"
   ]
  },
  {
   "cell_type": "code",
   "execution_count": 34,
   "metadata": {},
   "outputs": [
    {
     "data": {
      "text/plain": [
       "array(['Cancelled', 'Shipped - Delivered to Buyer', 'Shipped',\n",
       "       'Shipped - Returned to Seller', 'Shipped - Rejected by Buyer',\n",
       "       'Shipped - Lost in Transit', 'Shipped - Out for Delivery',\n",
       "       'Shipped - Returning to Seller', 'Shipped - Picked Up', 'Pending',\n",
       "       'Pending - Waiting for Pick Up', 'Shipped - Damaged', 'Shipping'],\n",
       "      dtype=object)"
      ]
     },
     "execution_count": 34,
     "metadata": {},
     "output_type": "execute_result"
    }
   ],
   "source": [
    "df['Status'].unique()"
   ]
  },
  {
   "cell_type": "code",
   "execution_count": 35,
   "metadata": {},
   "outputs": [
    {
     "data": {
      "text/plain": [
       "array(['Merchant', 'Fashionable'], dtype=object)"
      ]
     },
     "execution_count": 35,
     "metadata": {},
     "output_type": "execute_result"
    }
   ],
   "source": [
    "df['Fulfilment'].unique()"
   ]
  },
  {
   "cell_type": "code",
   "execution_count": 37,
   "metadata": {},
   "outputs": [
    {
     "data": {
      "text/plain": [
       "array(['Fashionable.in', 'Non-Fashionable'], dtype=object)"
      ]
     },
     "execution_count": 37,
     "metadata": {},
     "output_type": "execute_result"
    }
   ],
   "source": [
    "df['Sales Channel '].unique()"
   ]
  },
  {
   "cell_type": "code",
   "execution_count": 40,
   "metadata": {},
   "outputs": [
    {
     "data": {
      "text/plain": [
       "array(['Standard', 'Expedited'], dtype=object)"
      ]
     },
     "execution_count": 40,
     "metadata": {},
     "output_type": "execute_result"
    }
   ],
   "source": [
    "df['ship-service-level'].unique()"
   ]
  },
  {
   "cell_type": "code",
   "execution_count": 42,
   "metadata": {},
   "outputs": [
    {
     "data": {
      "text/plain": [
       "array(['INR', nan], dtype=object)"
      ]
     },
     "execution_count": 42,
     "metadata": {},
     "output_type": "execute_result"
    }
   ],
   "source": [
    "df['currency'].unique()"
   ]
  },
  {
   "cell_type": "code",
   "execution_count": 44,
   "metadata": {},
   "outputs": [
    {
     "data": {
      "text/plain": [
       "array([nan, 'Shipped', 'Cancelled', 'Unshipped'], dtype=object)"
      ]
     },
     "execution_count": 44,
     "metadata": {},
     "output_type": "execute_result"
    }
   ],
   "source": [
    "df['Courier Status'].unique()"
   ]
  },
  {
   "cell_type": "code",
   "execution_count": 46,
   "metadata": {},
   "outputs": [
    {
     "data": {
      "text/plain": [
       "array(['Easy Ship', nan], dtype=object)"
      ]
     },
     "execution_count": 46,
     "metadata": {},
     "output_type": "execute_result"
    }
   ],
   "source": [
    "df['fulfilled-by'].unique()"
   ]
  },
  {
   "cell_type": "code",
   "execution_count": 50,
   "metadata": {},
   "outputs": [
    {
     "data": {
      "text/plain": [
       "array(['SET389', 'JNE3781', 'JNE3371', ..., 'SET066', 'J0286', 'SET045'],\n",
       "      dtype=object)"
      ]
     },
     "execution_count": 50,
     "metadata": {},
     "output_type": "execute_result"
    }
   ],
   "source": [
    "df['Style'].unique()"
   ]
  },
  {
   "cell_type": "code",
   "execution_count": 52,
   "metadata": {},
   "outputs": [
    {
     "data": {
      "text/plain": [
       "array(['Set', 'kurta', 'Western Dress', 'Top', 'Ethnic Dress', 'Bottom',\n",
       "       'Saree', 'Blouse', 'Dupatta'], dtype=object)"
      ]
     },
     "execution_count": 52,
     "metadata": {},
     "output_type": "execute_result"
    }
   ],
   "source": [
    "df['Category'].unique()"
   ]
  },
  {
   "cell_type": "code",
   "execution_count": 53,
   "metadata": {},
   "outputs": [
    {
     "data": {
      "text/plain": [
       "array(['S', '3XL', 'XL', 'L', 'XXL', 'XS', '6XL', 'M', '4XL', '5XL',\n",
       "       'Free'], dtype=object)"
      ]
     },
     "execution_count": 53,
     "metadata": {},
     "output_type": "execute_result"
    }
   ],
   "source": [
    "df['Size'].unique()"
   ]
  },
  {
   "cell_type": "code",
   "execution_count": 61,
   "metadata": {},
   "outputs": [
    {
     "data": {
      "text/plain": [
       "array([ 647.62,  406.  ,  329.  , ...,  708.58, 1244.  ,  639.  ])"
      ]
     },
     "execution_count": 61,
     "metadata": {},
     "output_type": "execute_result"
    }
   ],
   "source": [
    "df['Amount'].unique()"
   ]
  },
  {
   "cell_type": "code",
   "execution_count": 60,
   "metadata": {},
   "outputs": [
    {
     "data": {
      "text/plain": [
       "array(['04-30-22', '04-29-22', '04-28-22', '04-27-22', '04-26-22',\n",
       "       '04-25-22', '04-24-22', '04-23-22', '04-22-22', '04-21-22',\n",
       "       '04-20-22', '04-19-22', '04-18-22', '04-17-22', '04-16-22',\n",
       "       '04-15-22', '04-14-22', '04-13-22', '04-12-22', '04-11-22',\n",
       "       '04-10-22', '04-09-22', '04-08-22', '04-07-22', '04-06-22',\n",
       "       '04-05-22', '04-04-22', '04-03-22', '04-02-22', '04-01-22',\n",
       "       '03-31-22', '05-31-22', '05-30-22', '05-29-22', '05-28-22',\n",
       "       '05-27-22', '05-26-22', '05-25-22', '05-24-22', '05-23-22',\n",
       "       '05-22-22', '05-21-22', '05-20-22', '05-19-22', '05-18-22',\n",
       "       '05-17-22', '05-16-22', '05-15-22', '05-14-22', '05-13-22',\n",
       "       '05-12-22', '05-11-22', '05-10-22', '05-09-22', '05-08-22',\n",
       "       '05-07-22', '05-06-22', '05-05-22', '05-04-22', '05-03-22',\n",
       "       '05-02-22', '05-01-22', '06-29-22', '06-28-22', '06-27-22',\n",
       "       '06-26-22', '06-25-22', '06-24-22', '06-23-22', '06-22-22',\n",
       "       '06-21-22', '06-20-22', '06-19-22', '06-18-22', '06-17-22',\n",
       "       '06-16-22', '06-15-22', '06-14-22', '06-13-22', '06-12-22',\n",
       "       '06-11-22', '06-10-22', '06-09-22', '06-08-22', '06-07-22',\n",
       "       '06-06-22', '06-05-22', '06-04-22', '06-03-22', '06-02-22',\n",
       "       '06-01-22'], dtype=object)"
      ]
     },
     "execution_count": 60,
     "metadata": {},
     "output_type": "execute_result"
    }
   ],
   "source": [
    "df['Date'].unique()"
   ]
  },
  {
   "cell_type": "code",
   "execution_count": 62,
   "metadata": {},
   "outputs": [
    {
     "data": {
      "text/plain": [
       "array([False,  True])"
      ]
     },
     "execution_count": 62,
     "metadata": {},
     "output_type": "execute_result"
    }
   ],
   "source": [
    "df['B2B'].unique()  "
   ]
  },
  {
   "cell_type": "code",
   "execution_count": null,
   "metadata": {},
   "outputs": [],
   "source": []
  }
 ],
 "metadata": {
  "kernelspec": {
   "display_name": "venv",
   "language": "python",
   "name": "python3"
  },
  "language_info": {
   "codemirror_mode": {
    "name": "ipython",
    "version": 3
   },
   "file_extension": ".py",
   "mimetype": "text/x-python",
   "name": "python",
   "nbconvert_exporter": "python",
   "pygments_lexer": "ipython3",
   "version": "3.13.0"
  }
 },
 "nbformat": 4,
 "nbformat_minor": 2
}
